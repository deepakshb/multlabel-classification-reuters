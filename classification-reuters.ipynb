{
 "cells": [
  {
   "cell_type": "markdown",
   "metadata": {},
   "source": [
    "# Multi-Label Classification on Reuters"
   ]
  },
  {
   "cell_type": "code",
   "execution_count": 1,
   "metadata": {},
   "outputs": [],
   "source": [
    "try:\n",
    "    import sklearn\n",
    "except ModuleNotFoundError:\n",
    "    !pip install scikit-learn   \n",
    "\n",
    "try:\n",
    "    import nltk\n",
    "except ModuleNotFoundError:\n",
    "    !pip install nltk\n",
    "\n",
    "try:\n",
    "    import numpy as np\n",
    "except ModuleNotFoundError:\n",
    "    !pip install numpy\n",
    "    \n",
    "%matplotlib inline\n",
    "import matplotlib\n",
    "import matplotlib.pyplot as plt"
   ]
  },
  {
   "cell_type": "code",
   "execution_count": 2,
   "metadata": {},
   "outputs": [],
   "source": [
    "## This code downloads the required packages.\n",
    "## You can run `nltk.download('all')` to download everything.\n",
    "\n",
    "nltk_packages = [\n",
    "    (\"reuters\", \"corpora/reuters.zip\")\n",
    "]\n",
    "\n",
    "for pid, fid in nltk_packages:\n",
    "    try:\n",
    "        nltk.data.find(fid)\n",
    "    except LookupError:\n",
    "        nltk.download(pid)"
   ]
  },
  {
   "cell_type": "markdown",
   "metadata": {},
   "source": [
    "## Setting up corpus"
   ]
  },
  {
   "cell_type": "code",
   "execution_count": 3,
   "metadata": {},
   "outputs": [],
   "source": [
    "from nltk.corpus import reuters"
   ]
  },
  {
   "cell_type": "markdown",
   "metadata": {},
   "source": [
    "## Setting up train/test data"
   ]
  },
  {
   "cell_type": "code",
   "execution_count": 4,
   "metadata": {},
   "outputs": [],
   "source": [
    "train_documents, train_categories,fileID_train = zip(*[(reuters.raw(i), reuters.categories(i),i) for i in reuters.fileids() if i.startswith('training/')])\n",
    "test_documents, test_categories,fileID_test = zip(*[(reuters.raw(i), reuters.categories(i),i) for i in reuters.fileids() if i.startswith('test/')])"
   ]
  },
  {
   "cell_type": "code",
   "execution_count": 5,
   "metadata": {},
   "outputs": [],
   "source": [
    "all_categories = sorted(list(set(reuters.categories())))"
   ]
  },
  {
   "cell_type": "markdown",
   "metadata": {},
   "source": [
    "# Feature Engineering"
   ]
  },
  {
   "cell_type": "markdown",
   "metadata": {},
   "source": [
    "##### Tokenization and Lowercase conversion of the corpus"
   ]
  },
  {
   "cell_type": "markdown",
   "metadata": {},
   "source": [
    "In the two sections of code given below, I have converted the whole corpus into tokens and converted all of the tokens into lowercase. I chose to do so due to the reason that suppose if I have a sentence with the beginning word 'Xyz' (of course it is capitalized) and later I face that word again in the same sentense with different casing (i.e. 'xyz'). In such case if avoiding to convert casing of the words, it will definately affect my accuracy (as I am using CountVectorizer in this modal.)"
   ]
  },
  {
   "cell_type": "code",
   "execution_count": 6,
   "metadata": {},
   "outputs": [],
   "source": [
    "# Tokenize documents using nltk standard tokenizer\n",
    "train_tokens = [nltk.word_tokenize(text) for text in train_documents]\n",
    "test_tokens = [nltk.word_tokenize(text) for text in test_documents]"
   ]
  },
  {
   "cell_type": "code",
   "execution_count": 7,
   "metadata": {},
   "outputs": [],
   "source": [
    "#Change all the tokens to lowercase\n",
    "\n",
    "lower_train = [[word.lower() for word in doc] for doc in train_tokens]\n",
    "lower_test = [[word.lower() for word in doc] for doc in test_tokens]"
   ]
  },
  {
   "cell_type": "markdown",
   "metadata": {},
   "source": [
    "##### Stop words Removal"
   ]
  },
  {
   "cell_type": "markdown",
   "metadata": {},
   "source": [
    "In the following code section, I have chosen to remove the unneccessery words those have nothing to do with the context of the documents. Removing those words first, will shrink our documents and secondly, the document will look more meaningful."
   ]
  },
  {
   "cell_type": "code",
   "execution_count": 8,
   "metadata": {},
   "outputs": [],
   "source": [
    "#Cleanup the stopwords\n",
    "\n",
    "from nltk.corpus import stopwords\n",
    "stop_words = stopwords.words('english')\n",
    "new_train = [[word for word in doc if word not in stop_words] for doc in lower_train]\n",
    "new_test = [[word for word in doc if word not in stop_words] for doc in lower_test]\n",
    "\n"
   ]
  },
  {
   "cell_type": "code",
   "execution_count": 9,
   "metadata": {},
   "outputs": [
    {
     "data": {
      "image/png": "[encoded data removed]",
      "text/plain": [
       "<Figure size 432x288 with 1 Axes>"
      ]
     },
     "metadata": {},
     "output_type": "display_data"
    }
   ],
   "source": [
    "pos_allcat = [pos for word,pos in nltk.pos_tag(all_categories)]\n",
    "\n",
    "from collections import Counter\n",
    "x = Counter(pos_allcat).keys()\n",
    "y = Counter(pos_allcat).values()\n",
    "index = np.arange(len(x))\n",
    "\n",
    "plt.bar(index, y)\n",
    "plt.xlabel('POS Tag', fontsize=10)\n",
    "plt.ylabel('Labels', fontsize=10)\n",
    "plt.xticks(index, x, fontsize=10, rotation=30)\n",
    "plt.title('POS vs. All Categories')\n",
    "plt.show()"
   ]
  },
  {
   "cell_type": "markdown",
   "metadata": {},
   "source": [
    "##### Parts-of-Speech Tagging"
   ]
  },
  {
   "cell_type": "code",
   "execution_count": 10,
   "metadata": {},
   "outputs": [],
   "source": [
    "#POS tagging\n",
    "\n",
    "from nltk import pos_tag\n",
    "\n",
    "#Training Set\n",
    "train_pos = [pos_tag(tokens) for tokens in new_train]\n",
    "noun_train = [[token for token,pos in tokens if pos.startswith('NN' or 'VBP' or 'JJ' or 'NNS' or 'VBD')] for tokens in train_pos]\n",
    "train_docs_nouns = [' '.join(doc) for doc in noun_train]\n",
    "\n",
    "#Test Set\n",
    "test_pos = [pos_tag(tokens) for tokens in new_test]\n",
    "noun_test = [[token for token,pos in tokens if pos.startswith('NN' or 'VBP' or 'JJ' or 'NNS' or 'VBD')] for tokens in test_pos]\n",
    "test_docs_nouns = [' '.join(doc) for doc in noun_test]\n"
   ]
  },
  {
   "cell_type": "markdown",
   "metadata": {},
   "source": [
    "# Feature Extraction"
   ]
  },
  {
   "cell_type": "markdown",
   "metadata": {},
   "source": [
    "##### Binarizing Input Labels"
   ]
  },
  {
   "cell_type": "markdown",
   "metadata": {},
   "source": [
    "It is important to standardize our labels too. For doing so, I am using MultilabelBinarizer for this. It not only helps the classifier to make assumptions but also these values use less disk space. It maintains a unique matrix with boolean values correspoding to each label. "
   ]
  },
  {
   "cell_type": "code",
   "execution_count": 11,
   "metadata": {
    "scrolled": true
   },
   "outputs": [],
   "source": [
    "from sklearn.preprocessing import MultiLabelBinarizer\n",
    "\n",
    "mlb = MultiLabelBinarizer()\n",
    "mlb.fit(train_categories)\n",
    "y_train = mlb.transform(train_categories)\n",
    "y_test  = mlb.transform(test_categories)"
   ]
  },
  {
   "cell_type": "markdown",
   "metadata": {},
   "source": [
    "##### Vectorization of Tokens"
   ]
  },
  {
   "cell_type": "code",
   "execution_count": 12,
   "metadata": {},
   "outputs": [],
   "source": [
    "#Vectorize each document in the corpus\n",
    "from sklearn.feature_extraction.text import CountVectorizer\n",
    "\n",
    "vectorizer = CountVectorizer()\n",
    "X_train = vectorizer.fit_transform(train_docs_nouns)\n",
    "X_test = vectorizer.transform(test_docs_nouns)"
   ]
  },
  {
   "cell_type": "markdown",
   "metadata": {},
   "source": [
    "# Classification"
   ]
  },
  {
   "cell_type": "markdown",
   "metadata": {},
   "source": [
    "##### Training the Classifier"
   ]
  },
  {
   "cell_type": "code",
   "execution_count": 13,
   "metadata": {},
   "outputs": [
    {
     "data": {
      "text/plain": [
       "OneVsRestClassifier(estimator=DecisionTreeClassifier(class_weight=None, criterion='entropy', max_depth=None,\n",
       "            max_features=None, max_leaf_nodes=None,\n",
       "            min_impurity_decrease=0.0, min_impurity_split=None,\n",
       "            min_samples_leaf=1, min_samples_split=2,\n",
       "            min_weight_fraction_leaf=0.0, presort=False, random_state=None,\n",
       "            splitter='best'),\n",
       "          n_jobs=1)"
      ]
     },
     "execution_count": 13,
     "metadata": {},
     "output_type": "execute_result"
    }
   ],
   "source": [
    "from sklearn.tree import DecisionTreeClassifier\n",
    "from sklearn.multiclass import OneVsRestClassifier\n",
    "\n",
    "clf = OneVsRestClassifier(DecisionTreeClassifier(criterion='entropy'))\n",
    "clf.fit(X_train, y_train)"
   ]
  },
  {
   "cell_type": "markdown",
   "metadata": {},
   "source": [
    "##### Make Predictions using test Dataset"
   ]
  },
  {
   "cell_type": "markdown",
   "metadata": {},
   "source": [
    "Now that we have our classifier trained, we will predict the class for each test document. "
   ]
  },
  {
   "cell_type": "code",
   "execution_count": 14,
   "metadata": {},
   "outputs": [],
   "source": [
    "y_pred = clf.predict(X_test)"
   ]
  },
  {
   "cell_type": "markdown",
   "metadata": {},
   "source": [
    "# Performance Evaluation"
   ]
  },
  {
   "cell_type": "markdown",
   "metadata": {},
   "source": [
    "Following code will generate the confusion matrix for our classifier performance"
   ]
  },
  {
   "cell_type": "code",
   "execution_count": 15,
   "metadata": {},
   "outputs": [],
   "source": [
    "from sklearn import metrics"
   ]
  },
  {
   "cell_type": "code",
   "execution_count": 16,
   "metadata": {
    "scrolled": true
   },
   "outputs": [
    {
     "name": "stdout",
     "output_type": "stream",
     "text": [
      "Accuracy : 0.7085\n",
      "***Macro***\n",
      "Precision: 0.5447\n",
      "Recall   : 0.4770\n",
      "F1-Score : 0.4872\n",
      "***Micro***\n",
      "Precision: 0.8284\n",
      "Recall   : 0.7917\n",
      "F1-Score : 0.8096\n"
     ]
    },
    {
     "name": "stderr",
     "output_type": "stream",
     "text": [
      "/Users/deepakrastogi/anaconda3/lib/python3.6/site-packages/sklearn/metrics/classification.py:1135: UndefinedMetricWarning: Precision is ill-defined and being set to 0.0 in labels with no predicted samples.\n",
      "  'precision', 'predicted', average, warn_for)\n",
      "/Users/deepakrastogi/anaconda3/lib/python3.6/site-packages/sklearn/metrics/classification.py:1135: UndefinedMetricWarning: F-score is ill-defined and being set to 0.0 in labels with no predicted samples.\n",
      "  'precision', 'predicted', average, warn_for)\n"
     ]
    }
   ],
   "source": [
    "print(\"Accuracy : {:.4f}\".format(metrics.accuracy_score(y_test, y_pred)))\n",
    "print(\"***Macro***\")\n",
    "print(\"Precision: {:.4f}\".format(metrics.precision_score(y_test, y_pred, average='macro')))\n",
    "print(\"Recall   : {:.4f}\".format(metrics.recall_score(y_test, y_pred, average='macro')))\n",
    "print(\"F1-Score : {:.4f}\".format(metrics.f1_score(y_test, y_pred, average='macro')))\n",
    "\n",
    "print(\"***Micro***\")\n",
    "print(\"Precision: {:.4f}\".format(metrics.precision_score(y_test, y_pred, average='micro')))\n",
    "print(\"Recall   : {:.4f}\".format(metrics.recall_score(y_test, y_pred, average='micro')))\n",
    "print(\"F1-Score : {:.4f}\".format(metrics.f1_score(y_test, y_pred, average='micro')))"
   ]
  },
  {
   "cell_type": "code",
   "execution_count": 17,
   "metadata": {},
   "outputs": [
    {
     "name": "stdout",
     "output_type": "stream",
     "text": [
      "Input text: In an apparent effort to boost profits for meat manufacturers despite potential harms to food safety, the U.S. Department of Agriculture is reportedly planning to privatize inspections of beef slaughter plants. Food and Water Watch reported Monday that the USDA is pursuing deregulation of the food inspection system that has been used for years at beef slaughterhouses. The information came from documents obtained through the Freedom of Information Act. The group released an application from beef, pork, and poultry manufacturer Tyson Foods, in which the company requested a waiver to allow Tyson employees to conduct more inspections at its beef plant in Holcolm, Kansas, instead of relying on USDA food safety inspectors. This dangerous proposal could rid beef slaughter plants of most government inspectors, Food and Water Watch said in a statement.\n",
      "Output labels: [('carcass',)]\n"
     ]
    }
   ],
   "source": [
    "# Input sentence\n",
    "input_text = \"In an apparent effort to boost profits for meat manufacturers despite potential harms to food safety, the U.S. Department of Agriculture is reportedly planning to privatize inspections of beef slaughter plants. Food and Water Watch reported Monday that the USDA is pursuing deregulation of the food inspection system that has been used for years at beef slaughterhouses. The information came from documents obtained through the Freedom of Information Act. The group released an application from beef, pork, and poultry manufacturer Tyson Foods, in which the company requested a waiver to allow Tyson employees to conduct more inspections at its beef plant in Holcolm, Kansas, instead of relying on USDA food safety inspectors. This dangerous proposal could rid beef slaughter plants of most government inspectors, Food and Water Watch said in a statement.\"\n",
    "      \n",
    "# Tokenize\n",
    "input_tokens = nltk.word_tokenize(input_text)\n",
    "\n",
    "# Stop words removal\n",
    "input_stop_words_removal = [word for word in input_tokens if word not in stop_words]\n",
    "\n",
    "#Extract Nouns and Verbs\n",
    "input_new = pos_tag(input_stop_words_removal)\n",
    "input_noun_train = []\n",
    "input_noun_train.append([token for token,pos in input_new if pos.startswith('NN' or 'VBP' or 'JJ' or 'NNS' or 'VBD')])\n",
    "\n",
    "stringArray = [token for token,pos in input_new if pos.startswith('NN' or 'VBP' or 'JJ' or 'NNS' or 'VBD')]\n",
    "testinput = []\n",
    "testinput.append(' '.join(stringArray))\n",
    "\n",
    "\n",
    "#Vectorize text\n",
    "input_test = vectorizer.transform(testinput)\n",
    "\n",
    "\n",
    "# Do prediction\n",
    "output_preds = clf.predict(input_test)\n",
    "\n",
    "# Convert predictions back to labels\n",
    "output_labels = mlb.inverse_transform(output_preds)\n",
    "\n",
    "# Print labels\n",
    "print(\"Input text: {}\".format(input_text))\n",
    "print(\"Output labels: {}\".format(output_labels))"
   ]
  }
 ],
 "metadata": {
  "kernelspec": {
   "display_name": "Python 3",
   "language": "python",
   "name": "python3"
  },
  "language_info": {
   "codemirror_mode": {
    "name": "ipython",
    "version": 3
   },
   "file_extension": ".py",
   "mimetype": "text/x-python",
   "name": "python",
   "nbconvert_exporter": "python",
   "pygments_lexer": "ipython3",
   "version": "3.6.8"
  }
 },
 "nbformat": 4,
 "nbformat_minor": 2
}
